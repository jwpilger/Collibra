{
 "cells": [
  {
   "cell_type": "code",
   "execution_count": 64,
   "metadata": {},
   "outputs": [],
   "source": [
    "# John Pilger Collibra tech assessment 4/18/2021\n",
    "# Print_range function\n",
    "# range_beg must be an integer representing the starting number\n",
    "# range_end must be an integer representing the ending number\n",
    "# modulo 0 for even integers and 1 for odd; result of modulo 2 operation\n",
    "\n",
    "\n",
    "def print_range(range_beg,range_end,modulo):\n",
    "    incr=-1\n",
    "    if range_beg <= range_end:\n",
    "         incr=1\n",
    "    Even_odd = \"Even\"\n",
    "    if modulo == 1:\n",
    "        Even_odd = \"Odd\"\n",
    "    print(Even_odd, \"integers between \", range_beg, \" and \", range_end, \" inclusive\")\n",
    "    for i in range(range_beg, range_end+incr,incr):  # add 1 for inclusive between range\n",
    "        if i % 2 == modulo: print(i)                 # 0 for even; 1 for odd\n",
    "    return(0)\n"
   ]
  },
  {
   "cell_type": "code",
   "execution_count": 65,
   "metadata": {},
   "outputs": [
    {
     "name": "stdout",
     "output_type": "stream",
     "text": [
      "Even integers between  1  and  20  inclusive\n",
      "2\n",
      "4\n",
      "6\n",
      "8\n",
      "10\n",
      "12\n",
      "14\n",
      "16\n",
      "18\n",
      "20\n",
      "Even integers between  20  and  1  inclusive\n",
      "20\n",
      "18\n",
      "16\n",
      "14\n",
      "12\n",
      "10\n",
      "8\n",
      "6\n",
      "4\n",
      "2\n"
     ]
    },
    {
     "data": {
      "text/plain": [
       "0"
      ]
     },
     "execution_count": 65,
     "metadata": {},
     "output_type": "execute_result"
    }
   ],
   "source": [
    "# List even numbers from 1-20 using Python3\n",
    "\n",
    "print_range(1,20,0)\n",
    "print_range(20,1,0)"
   ]
  },
  {
   "cell_type": "code",
   "execution_count": null,
   "metadata": {},
   "outputs": [],
   "source": []
  },
  {
   "cell_type": "code",
   "execution_count": null,
   "metadata": {},
   "outputs": [],
   "source": []
  }
 ],
 "metadata": {
  "kernelspec": {
   "display_name": "Python 3",
   "language": "python",
   "name": "python3"
  },
  "language_info": {
   "codemirror_mode": {
    "name": "ipython",
    "version": 3
   },
   "file_extension": ".py",
   "mimetype": "text/x-python",
   "name": "python",
   "nbconvert_exporter": "python",
   "pygments_lexer": "ipython3",
   "version": "3.8.5"
  }
 },
 "nbformat": 4,
 "nbformat_minor": 4
}
